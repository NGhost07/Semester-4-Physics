{
  "nbformat": 4,
  "nbformat_minor": 0,
  "metadata": {
    "colab": {
      "name": "model2-otchet.ipynb",
      "provenance": [],
      "collapsed_sections": [],
      "authorship_tag": "ABX9TyPnu96HCEbx5ReWHuMS94he",
      "include_colab_link": true
    },
    "kernelspec": {
      "name": "python3",
      "display_name": "Python 3"
    },
    "language_info": {
      "name": "python"
    }
  },
  "cells": [
    {
      "cell_type": "markdown",
      "metadata": {
        "id": "view-in-github",
        "colab_type": "text"
      },
      "source": [
        "<a href=\"https://colab.research.google.com/github/NGhost07/Semester-3-Physics/blob/main/model2_otchet.ipynb\" target=\"_parent\"><img src=\"https://colab.research.google.com/assets/colab-badge.svg\" alt=\"Open In Colab\"/></a>"
      ]
    },
    {
      "cell_type": "markdown",
      "source": [
        "# Отчет по моделировании 2\n",
        "* **Группа:** M32112\n",
        "* **Студенты:** Чан Хоанг Нам, Данг Хоанг Дык\n",
        "* **Преподаватель:** Герт А.В"
      ],
      "metadata": {
        "id": "MgWInW9AwAEx"
      }
    },
    {
      "cell_type": "markdown",
      "source": [
        "# Условие\n",
        "\n",
        "*На основании модели Кронига-Пени промоделировать зонную структуру одномерного кристалла. Проанализировать изменение ширины запрещенных зон для двух крайних случаев, когда электрон совершенно свободен и когда электрон заперт внутри одной потенциальной ямы, т.е. стенки непроницаемы, а так же промежуточные случаи, где a – ширина ямы, b – ширина барьера, с – постоянная кристаллической решетки,*"
      ],
      "metadata": {
        "id": "VZ-b7weYwVTp"
      }
    },
    {
      "cell_type": "markdown",
      "source": [
        "Import library for model"
      ],
      "metadata": {
        "id": "s5X2d_kMwlsx"
      }
    },
    {
      "cell_type": "code",
      "execution_count": null,
      "metadata": {
        "id": "yQveNWQdu5tM"
      },
      "outputs": [],
      "source": [
        "%matplotlib notebook\n",
        "import numpy as np\n",
        "import matplotlib.pyplot as plt\n",
        "from matplotlib.widgets import Slider"
      ]
    },
    {
      "cell_type": "markdown",
      "source": [
        "Setup \n"
      ],
      "metadata": {
        "id": "14zCAYWKwvgf"
      }
    },
    {
      "cell_type": "code",
      "source": [
        "pCurrent = 10\n",
        "pMin = 0\n",
        "pMax = 100\n",
        "\n",
        "value = 10\n",
        "\n",
        "# Левая граница графика\n",
        "start = -np.sqrt(value)\n",
        "\n",
        "# Правая граница графика\n",
        "end = np.sqrt(value)\n",
        "\n",
        "# Значения x для графика\n",
        "values = np.arange(start, end, 0.001)"
      ],
      "metadata": {
        "id": "l-h1UsATvOfj"
      },
      "execution_count": null,
      "outputs": []
    },
    {
      "cell_type": "markdown",
      "source": [
        "Упрощенная (b -> 0, V -> ∞) функция энергетических зон кристалла\n",
        "\n",
        "Теория из website https://dic.academic.ru/dic.nsf/enc_physics/3649/КРОНИГА"
      ],
      "metadata": {
        "id": "oE5XIVSYxLRg"
      }
    },
    {
      "cell_type": "code",
      "source": [
        "def f(alpha, a, P):\n",
        "    return np.cos(alpha * a) + P * np.sin(alpha * a) / (alpha * a)"
      ],
      "metadata": {
        "id": "X6flOr-LvQUE"
      },
      "execution_count": null,
      "outputs": []
    },
    {
      "cell_type": "markdown",
      "source": [
        "Вычисление половины значений функции энергетических зон"
      ],
      "metadata": {
        "id": "XlCMqJu1xhC-"
      }
    },
    {
      "cell_type": "code",
      "source": [
        "def calculateGraph(P, isLeft):\n",
        "    multiplier = -1 if isLeft else 1\n",
        "    return plt.plot(values * (multiplier * values), f(values, values, P), color='C0', linewidth=2)"
      ],
      "metadata": {
        "id": "wxJXAGhBvSCU"
      },
      "execution_count": null,
      "outputs": []
    },
    {
      "cell_type": "markdown",
      "source": [
        "Вычисление всех значений функции энергетических зон\n",
        "\n",
        "\n"
      ],
      "metadata": {
        "id": "LnfI50Ndxnty"
      }
    },
    {
      "cell_type": "code",
      "source": [
        "def calculateWholeGraph(P):\n",
        "    leftPart, = calculateGraph(P, False)\n",
        "    rightPart, = calculateGraph(P, True)\n",
        "    return [leftPart, rightPart]"
      ],
      "metadata": {
        "id": "cl5WsQxrvUMh"
      },
      "execution_count": null,
      "outputs": []
    },
    {
      "cell_type": "markdown",
      "source": [
        "Вычисление половины значений поддерживающих линий.\n",
        "Они, в отличие от полос, могут принимать значения -1, 0, 1 и служат лишь для большей наглядности"
      ],
      "metadata": {
        "id": "pXr9OWszxutb"
      }
    },
    {
      "cell_type": "code",
      "source": [
        "def calculateSupportLines(P, isLeft):\n",
        "    multiplier = -1 if isLeft else 1\n",
        "    return plt.plot(values * (multiplier * values), [-1 if f(i, i, P) < -1 else 1 if f(i, i, P) > 1 else 0 for i in values], color='black', linewidth=1)"
      ],
      "metadata": {
        "id": "ctRNRa7PvWjH"
      },
      "execution_count": null,
      "outputs": []
    },
    {
      "cell_type": "markdown",
      "source": [
        "Вычисление всех значений поддерживающих линий"
      ],
      "metadata": {
        "id": "HCdtem9tx5Gf"
      }
    },
    {
      "cell_type": "code",
      "source": [
        "def calculateWholeSupportLines(P):\n",
        "    leftPart, = calculateSupportLines(P, True)\n",
        "    rightPart, = calculateSupportLines(P, False)\n",
        "    return [leftPart, rightPart]"
      ],
      "metadata": {
        "id": "xfnIoqGDvYxn"
      },
      "execution_count": null,
      "outputs": []
    },
    {
      "cell_type": "markdown",
      "source": [
        "Вычисление половины разрешенных (полосы) и запрещенных (впадины) значений"
      ],
      "metadata": {
        "id": "6lQ_OoWrySBm"
      }
    },
    {
      "cell_type": "code",
      "source": [
        "def calculateBars(P, isLeft):\n",
        "    multiplier = -1 if isLeft else 1\n",
        "    return plt.plot(values * (multiplier * values), [1 if abs(f(i, i, P)) < 1 else 0 for i in values], color='red', linewidth=1)"
      ],
      "metadata": {
        "id": "mi9iyoVJvaTb"
      },
      "execution_count": null,
      "outputs": []
    },
    {
      "cell_type": "markdown",
      "source": [
        "Вычисление всех значений полос и впадин"
      ],
      "metadata": {
        "id": "qozE31obyWAf"
      }
    },
    {
      "cell_type": "code",
      "source": [
        "def calculateWholeBars(P):\n",
        "    leftPart, = calculateBars(P, False)\n",
        "    rightPart, = calculateBars(P, True)\n",
        "    return [leftPart, rightPart]"
      ],
      "metadata": {
        "id": "1wIIUjVrvdi-"
      },
      "execution_count": null,
      "outputs": []
    },
    {
      "cell_type": "markdown",
      "source": [
        "Обновление всех параметров после изменения значения ползунка\n"
      ],
      "metadata": {
        "id": "PJENzFBkyYwh"
      }
    },
    {
      "cell_type": "code",
      "source": [
        "def update(sliderValue):\n",
        "    supportLinesValues = [-1 if f(i, i, sliderValue) < -1 else 1 if f(i, i, sliderValue) > 1 else 0 for i in values]\n",
        "    barsValues = [1 if abs(f(i, i, sliderValue)) < 1 else 0 for i in values]\n",
        "    percent.set_text(f\"{barsValues.count(0) / len(barsValues) * 100 : .2f}\" + \"%\")\n",
        "\n",
        "    for p in lines[0]:\n",
        "        p.set_ydata(f(values, values, sliderValue))\n",
        "\n",
        "    for p in lines[1]:\n",
        "        p.set_ydata(supportLinesValues)\n",
        "        \n",
        "    for p in lines[2]:\n",
        "        p.set_ydata(barsValues)\n",
        "\n",
        "    fig.canvas.draw_idle()"
      ],
      "metadata": {
        "id": "NGPUTLndvgD7"
      },
      "execution_count": null,
      "outputs": []
    },
    {
      "cell_type": "markdown",
      "source": [
        "Отобразить на экране результатов модели"
      ],
      "metadata": {
        "id": "48UYDa2XycAr"
      }
    },
    {
      "cell_type": "code",
      "source": [
        "fig, ax = plt.subplots()\n",
        "\n",
        "ax.set_xlabel('α a')\n",
        "ax.set_ylabel('f(α, a)')\n",
        "\n",
        "plt.axhline(y=1, linestyle=\"--\", c='green', linewidth = 2)\n",
        "plt.axhline(y=-1, linestyle=\"--\", c='green', linewidth = 2)\n",
        "\n",
        "lines = [calculateWholeGraph(pCurrent), calculateWholeSupportLines(pCurrent), calculateWholeBars(pCurrent)]\n",
        "\n",
        "plt.text(11, 10.5, \"Процент запрещенных зон:\", horizontalalignment='right', verticalalignment='top')\n",
        "barsValues = [1 if abs(f(i, i, pCurrent)) < 1 else 0 for i in values]\n",
        "percent = plt.text(11, 10, f\"{barsValues.count(0) / len(barsValues) * 100 : .2f}\" + \"%\", horizontalalignment='right', verticalalignment='top')\n",
        "\n",
        "plt.subplots_adjust(left=0.25)\n",
        "\n",
        "pSlider = Slider(ax=plt.axes([0.1, 0.25, 0.0225, 0.6]), label=\"P\", valmin=pMin, valmax=pMax, valinit=pCurrent, orientation=\"vertical\")\n",
        "pSlider.on_changed(update)\n",
        "\n",
        "plt.show()"
      ],
      "metadata": {
        "colab": {
          "base_uri": "https://localhost:8080/",
          "height": 284
        },
        "id": "mvocTy0RviY5",
        "outputId": "c12110d5-2aff-4d7c-8c12-3cf9ed6c119a"
      },
      "execution_count": null,
      "outputs": [
        {
          "output_type": "display_data",
          "data": {
            "text/plain": [
              "<Figure size 432x288 with 2 Axes>"
            ],
            "image/png": "[encoded data removed]"
          },
          "metadata": {
            "needs_background": "light"
          }
        }
      ]
    }
  ]
}